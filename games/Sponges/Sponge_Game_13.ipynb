{
 "cells": [
  {
   "cell_type": "markdown",
   "id": "a7028e57",
   "metadata": {},
   "source": [
    "# Zellen der Schwämme erkunden"
   ]
  },
  {
   "cell_type": "markdown",
   "id": "fec19ca9",
   "metadata": {},
   "source": [
    "## Code-Zelle 1"
   ]
  },
  {
   "cell_type": "code",
   "execution_count": 114,
   "id": "7a8164b4",
   "metadata": {},
   "outputs": [],
   "source": [
    "image_dysfunctional = \"\"\"\\\n",
    "\n",
    "⡐⠉⠉⠉⣑⠂⠒⠊⠉⠶⡄⠈⠉⠓⠉⠉⠁⠁⢠⠖⠦⡉⠐⠒⠒⠊⠒⠐⢒⠢\n",
    "⡄⢂⡁⠸⠱⠉⡀⣁⣰⣟⠁⠀⠐⡀⢈⠐⢈⠁⠈⠘⣆⠀⠐⠈⢀⠀⠻⠣⠀⢀\n",
    "⠐⡄⣁⣐⣤⣲⣴⣿⣭⣈⡙⠲⣄⠀⠂⢈⠀⣠⡶⢛⣙⣿⣦⣥⣂⣌⣐⣀⡌⡎\n",
    "⣾⠝⣩⣿⣿⣿⣿⣿⣿⣟⣿⣦⠈⢳⡀⢠⡾⣣⣶⣿⣿⣿⣿⣻⣿⣿⣍⠉⢦⡁\n",
    "⡟⢰⣿⣯⣿⣿⣿⣿⠀⢨⣿⣿⣷⠀⢿⣟⣰⣿⣿⣿⣿⣿⣟⠉⢹⣯⣿⣧⠀⢻\n",
    "⡇⢾⡿⣽⣿⣿⣿⣿⣿⣿⣿⣯⣿⡇⢸⡇⣿⡟⣾⣿⣿⣿⣿⣶⣿⣿⣞⣿⠀⢸\n",
    "⡇⢻⣷⡻⣿⣿⣿⣿⣿⣿⣿⣹⡿⢀⣿⡆⢿⣿⢽⣿⣿⣿⣿⣿⣿⡿⣻⡿⠀⣼\n",
    "⣿⣀⠻⣿⣍⣟⡿⢿⣟⣛⣾⠟⣡⣾⠏⣷⡘⠿⣷⣛⠿⡿⠿⢿⣻⣼⡿⠁⣴⠟\n",
    "⠈⢻⣦⣥⣋⡛⢟⠻⢛⣋⣥⡼⡟⣼⡃⡿⣹⢦⣍⡛⠿⠿⠿⠿⢛⣡⣤⠟⣿⠈\n",
    "⠀⢸⡯⣝⢻⢳⠾⠶⣾⢟⡏⢇⡱⣻⡇⣧⠉⠞⡻⠷⠶⣶⠶⢶⠞⡛⠩⣰⡟⠀\n",
    "⠀⢸⠇⠈⢃⠊⠁⠃⠂⢈⠐⠠⣜⣿⡀⢿⡀⠐⢀⠉⠑⣸⢿⡌⠐⠈⠀⢿⡁⠀\n",
    "⠀⢸⡇⠈⠈⠃⠐⠀⢂⠀⢤⡿⠽⣿⠀⡿⠹⣆⠀⠠⢱⠏⣞⢻⡄⣞⢀⠏⠀⠀\n",
    "⠀⢀⣿⡄⠰⡶⣬⡐⠀⣠⡟⡠⢙⣿⠀⡽⠀⡸⢦⠄⣿⠘⣾⣤⠇⠈⡞⡀⠀⠀\n",
    "⢀⡞⠈⢧⣤⣬⣥⣄⣀⣻⢾⣥⣎⣿⠀⢼⣀⣛⣏⣤⣭⣳⣞⣉⣀⣀⠇⢸⠀⠀\n",
    "⠀⠛⢾⢿⣄⣀⣤⣀⣉⣉⠳⢤⣞⡗⠀⢾⠙⣭⠖⠋⠀⠁⠉⠉⠉⣿⣶⠂⠁⠀\n",
    "⠀⢀⣾⢽⣿⣿⣿⣿⢿⣿⣿⣿⣿⡇⠀⣺⣿⣿⣿⣿⣿⣿⣿⣿⣿⡧⣿⠀⠀⠀\n",
    "⠀⠀⣼⢫⣿⣞⣷⣯⣟⣾⣽⣾⣽⣿⣶⣿⣯⣟⣾⣳⣯⣿⣽⣳⣯⣟⣿⠀⠀⠀\n",
    "⠀⠀⡝⣠⢛⡟⠯⡿⣟⣯⣟⣷⠏⠉⠉⠉⠉⢻⡿⣟⣯⣟⢿⢏⡟⢤⣻⠀⠀⠀\n",
    "\n",
    "\"\"\"\n",
    "\n",
    "\n",
    "image_functional = \"\"\"\\\n",
    "\n",
    "⠀⠀⠀⠀⠀⠀⠀⠀⠀⠀⠀⠀⠀⠀⠀⠀⠀⠀⠀⠀⠀⢀⣤⣀⠀⠀⠀⠀⠀⠀⠀⠀⠀⠀⠀⠀⠀⠀⠀⠀⠀⠀⠀\n",
    "⠀⠀⠀⠀⠀⠀⠀⠀⠀⠀⠀⠀⠀⠀⠀⠀⢀⣀⡠⢴⣺⠿⢤⡬⠙⠲⢤⣄⣀⠀⠀⠀⠀⠀⠀⠀⠀⠀⠀⠀⠀⠀⠀\n",
    "⠀⠀⠀⠀⠀⠀⠀⠀⠀⠀⠀⠀⠀⠀⠀⢀⡼⠧⠤⠼⠧⣄⣼⠁⠀⠀⠀⠀⠈⠉⠛⢻⠆⠀⣀⣀⣀⡀⠀⠀⠀⠀⠀\n",
    "⠀⠀⠀⠀⠀⠀⠀⠀⠀⠀⠀⠀⠀⣀⣰⡏⠀⣀⣀⣀⣀⣀⣈⠭⠶⣦⣤⡴⠶⠛⠙⠛⡒⠋⠉⠀⣸⢷⠀⠀⠀⠀⠀\n",
    "⠀⠀⠀⠀⠀⠀⠀⠀⢼⠉⠙⠒⡋⠉⠀⠉⠉⠁⠀⠀⠀⠀⠀⠀⠀⠀⠀⠀⠀⠀⠀⡯⠏⠀⠀⡞⠁⢸⡀⠀⠀⠀⠀\n",
    "⠀⠀⠀⠀⠀⠀⠀⢀⣼⠀⣔⢉⡉⢳⡀⠀⠀⠀⠀⠀⠀⣀⣠⣤⣴⣶⣶⣶⣶⣶⣶⣶⣦⣤⣄⡇⠀⠈⠙⢦⡀⠀⠀\n",
    "⠀⠀⠀⠀⠀⣠⣴⣿⣿⣿⣿⣿⣿⣿⣿⣿⣿⣷⣆⣠⣾⠿⣿⣿⣿⣿⣿⣿⣿⣿⣿⣿⣿⣿⣿⡇⣸⠉⢧⠘⣷⠀⠀\n",
    "⠀⠀⠀⠀⠠⣿⣿⠈⣿⣿⣿⣿⣿⣿⣿⣿⣿⣿⡇⢸⣿⡀⣿⣿⣿⣿⣿⣿⣿⣿⣿⣿⣿⣿⡿⢦⡘⣄⠞⠀⠘⢧⡀\n",
    "⠀⠀⠀⠀⠀⢻⣿⣧⣿⣿⣇⠀⠉⠻⣿⣿⣿⣿⠇⠀⢿⣿⣿⣿⣿⣿⣿⣿⣿⣿⣿⣿⣿⡿⠁⠀⠙⢦⡀⠀⠀⠀⡧\n",
    "⠀⠀⠀⠀⠀⠀⢻⣿⣿⣿⣿⣷⣄⡀⠈⠻⢿⣋⠀⠀⠈⠻⣿⣿⣿⣿⣿⣿⣿⣿⣿⣿⠏⠀⠀⠀⠀⢀⠑⣄⢠⠞⠃\n",
    "⠀⠀⠀⠀⠀⠀⢸⠙⠻⢿⣿⣿⣿⣿⣷⢦⣤⡀⠀⠀⠀⠀⠙⠿⢿⣿⣿⣿⠿⠟⠋⣽⠀⣀⣀⠀⠀⠫⠇⠘⣾⠀⠀\n",
    "⠀⠀⠀⠀⠀⠀⢸⠇⠀⠀⠀⢈⡅⣁⣴⣋⣀⠀⠀⠀⠀⠀⠀⠀⠀⠀⠀⣀⠀⠀⠀⡏⠀⡇⠀⢣⠀⠀⢀⣴⣿⠀⠀\n",
    "⠀⠀⠀⠀⠀⠀⡎⠀⠀⣀⠀⢿⣤⣶⠤⣄⣀⣠⠄⠀⠀⠀⠀⠀⠀⢰⠋⠈⡇⠀⣼⠁⠀⠙⠶⠛⠀⠀⢸⠇⠁⠀⠀\n",
    "⠀⠀⠀⠀⠀⠀⡇⠀⠺⠞⠀⠀⠀⠈⠳⣄⠈⠀⠀⠀⠀⠀⠀⠀⠀⠹⢤⠴⠃⠀⣷⠀⠀⠀⠀⡀⠀⢠⡞⠀⠀⠀⠀\n",
    "⠀⠀⠀⠀⠀⠀⢿⠀⣠⠞⢻⠀⠀⠀⠀⠈⠀⠀⠀⠀⠀⠀⠀⢀⡴⣶⠂⠀⠀⢰⠏⠀⠀⠀⠸⡷⣰⠏⠀⠀⠀⠀⠀\n",
    "⠀⠀⠀⣀⣤⠴⡾⠀⢿⣀⡼⠀⠀⠀⠀⠀⠀⠀⠀⠀⠀⠀⠀⠈⠛⠁⠀⠀⠀⡟⠀⠀⡠⠖⠚⢉⣿⣄⣀⣀⡀⠀⠀\n",
    "⠀⢀⣴⡇⠀⢀⣧⡀⠀⢀⠀⢀⣠⣤⣤⣀⣠⡤⠶⢶⣤⡤⢴⣺⣿⣹⡓⠒⢶⠣⣄⠀⠣⣄⠀⢿⣠⡶⢦⡶⢋⣽⠀\n",
    "⣴⢿⣟⠛⠒⠉⣨⡏⠉⠉⠉⠉⠒⣤⣼⡿⠺⣲⣖⣉⣀⣐⡏⠁⠀⠀⣷⣦⡿⣄⠈⢳⡤⢬⣹⢖⡫⠖⣉⡶⠋⠁⠀\n",
    "⠙⠲⠬⣙⣓⠚⢹⣗⣒⣒⡒⠚⣿⣯⣿⣄⣠⣻⣶⣿⠀⢸⣷⣄⣀⣼⢿⣿⣿⣮⣕⢼⡳⠤⡌⠋⣤⠞⠁⠀⠀⠀⠀\n",
    "⠀⠀⠀⠀⢰⠇⣾⡿⠿⠿⠇⠀⢘⣋⣯⣿⣿⠭⠯⠶⠶⠾⠒⠒⠋⠉⠉⠉⠳⣝⡻⣿⣮⣲⠃⠀⢹⠀⠀⠀⠀⠀⠀\n",
    "⠀⠀⠀⠀⠈⢦⣼⡿⣏⡉⠉⠉⠁⠀⠀⠀⠀⠀⠀⠀⠀⠀⠀⢠⠀⢄⠀⠀⠀⠀⠉⢺⣟⣁⠜⡜⡼⠀⠀⠀⠀⠀⠀\n",
    "⠀⠀⠀⠀⠀⠀⠈⠙⠛⠉⠓⠦⣴⠀⢰⣄⣀⣀⣀⣀⣠⠤⠤⠼⣧⠈⢶⠒⠒⠒⠒⠒⠛⠓⠚⠋⠀⠀⠀⠀⠀⠀⠀\n",
    "⠀⠀⠀⠀⠀⠀⠀⠀⠀⠀⠀⠀⠘⡆⢸⡏⠉⠁⠀⠀⠀⠀⠀⠀⠘⣆⠈⢧⠀⠀⠀⠀⠀⠀⠀⠀⠀⠀⠀⠀⠀⠀⠀\n",
    "⠀⠀⠀⠀⠀⠀⠀⠀⠀⠀⠀⠀⠀⡇⠈⡇⠀⠀⠀⠀⠀⠀⠀⠀⠀⠸⡀⠈⢳⠀⠀⠀⠀⠀⠀⠀⠀⠀⠀⠀⠀⠀⠀\n",
    "⠀⠀⠀⠀⠀⠀⠀⠀⠀⠀⠀⠀⢰⠃⠀⢹⠀⠀⠀⠀⠀⠀⠀⠀⠀⠀⢳⡀⠀⢳⡀⠀⠀⠀⠀⠀⠀⠀⠀⠀⠀⠀⠀\n",
    "⠀⠀⠀⠀⠀⠀⠀⠀⠀⠀⠀⠀⢸⠀⠀⠘⡆⠀⠀⠀⠀⠀⠀⠀⠀⠀⠈⣇⠀⠈⢷⡄⠀⠀⠀⠀⠀⠀⠀⠀⠀⠀⠀\n",
    "⠀⠀⠀⠀⠀⠀⠀⠀⠀⠀⠀⠀⡼⠀⠀⠀⢳⠀⠀⠀⠀⠀⠀⠀⠀⠀⠀⢹⡀⠀⠀⠳⡄⠀⠀⠀⠀⠀⠀⠀⠀⠀⠀\n",
    "⠀⠀⠀⠀⠀⠀⠀⠀⠀⠀⠀⠀⠳⢦⢤⡶⠚⠀⠀⠀⠀⠀⠀⠀⠀⠀⠀⠈⣇⣠⡴⡶⢿⠀⠀⠀⠀⠀⠀⠀⠀⠀⠀\n",
    "⠀⠀⠀⠀⠀⠀⠀⠀⠀⢰⣿⣽⣶⣿⣿⡗⠀⠀⠀⠀⠀⠀⠀⠀⠀⠀⠀⠀⠈⠋⣷⣿⣧⣤⣶⣤⡀⠀⠀⠀⠀⠀⠀\n",
    "⠀⠀⠀⠀⠀⠀⠀⠀⠀⠀⠛⠛⠛⠙⠛⠃⠀⠀⠀⠀⠀⠀⠀⠀⠀⠀⠀⠀⠀⠀⠻⣿⣿⠿⣿⣿⡗⠀⠀⠀⠀⠀⠀\n",
    "⠀⠀⠀⠀⠀⠀⠀⠀⠀⠀⠀⠀⠀⠀⠀⠀⠀⠀⠀⠀⠀⠀⠀⠀⠀⠀⠀⠀⠀⠀⠀⠉⠁⠀⠈⠀⠀⠀⠀⠀⠀⠀⠀\n",
    "\n",
    "\"\"\"\n",
    "\n",
    "\n",
    "def display_message(Choanocyten, Pinacocyten, Porocyten, Amöbocyten):\n",
    "    if Choanocyten == \"Nein\" and Pinacocyten == \"Nein\" and Porocyten == \"Nein\" and Amöbocyten == \"Nein\":\n",
    "        print(\"Dieser Schwamm ist sehr dysfunktional.\")\n",
    "        print(image_dysfunctional)\n",
    "    elif Choanocyten == \"Ja\" and Pinacocyten == \"Nein\" and Porocyten == \"Nein\" and Amöbocyten == \"Nein\":\n",
    "        print(\"Dieser Schwamm ist sehr dysfunktional.\")\n",
    "        print(image_dysfunctional)\n",
    "    elif Choanocyten == \"Nein\" and Pinacocyten == \"Ja\" and Porocyten == \"Nein\" and Amöbocyten == \"Nein\":\n",
    "        print(\"Dieser Schwamm hat eine stabile Form.\")\n",
    "    elif Choanocyten == \"Nein\" and Pinacocyten == \"Nein\" and Porocyten == \"Ja\" and Amöbocyten == \"Nein\":\n",
    "        print(\"Dieser Schwamm ist sehr dysfunktional.\")\n",
    "        print(image_dysfunctional)\n",
    "    elif Choanocyten == \"Nein\" and Pinacocyten == \"Nein\" and Porocyten == \"Nein\" and Amöbocyten == \"Ja\":\n",
    "        print(\"Dieser Schwamm ist sehr dysfunktional.\")\n",
    "        print(image_dysfunctional)\n",
    "    elif Choanocyten == \"Ja\" and Pinacocyten == \"Ja\" and Porocyten == \"Nein\" and Amöbocyten == \"Nein\":\n",
    "        print(\"Dieser Schwamm hat eine stabile Form.\")\n",
    "    elif Choanocyten == \"Ja\" and Pinacocyten == \"Nein\" and Porocyten == \"Ja\" and Amöbocyten == \"Nein\":\n",
    "        print(\"Dieser Schwamm ist sehr dysfunktional.\")\n",
    "        print(image_dysfunctional)\n",
    "    elif Choanocyten == \"Ja\" and Pinacocyten == \"Nein\" and Porocyten == \"Nein\" and Amöbocyten == \"Ja\":\n",
    "        print(\"Dieser Schwamm ist sehr dysfunktional.\")\n",
    "        print(image_dysfunctional)\n",
    "    elif Choanocyten == \"Nein\" and Pinacocyten == \"Ja\" and Porocyten == \"Ja\" and Amöbocyten == \"Nein\":\n",
    "        print(\"Dieser Schwamm hat eine stabile Form.\")\n",
    "    elif Choanocyten == \"Nein\" and Pinacocyten == \"Ja\" and Porocyten == \"Nein\" and Amöbocyten == \"Ja\":\n",
    "        print(\"Dieser Schwamm hat eine stabile Form.\")\n",
    "    elif Choanocyten == \"Nein\" and Pinacocyten == \"Nein\" and Porocyten == \"Ja\" and Amöbocyten == \"Ja\":\n",
    "        print(\"Dieser Schwamm ist sehr dysfunktional.\")\n",
    "        print(image_dysfunctional)\n",
    "    elif Choanocyten == \"Ja\" and Pinacocyten == \"Ja\" and Porocyten == \"Ja\" and Amöbocyten == \"Nein\":\n",
    "        print(\"Dieser Schwamm hat eine stabile Form und kann Wasser bewegen.\")\n",
    "    elif Choanocyten == \"Ja\" and Pinacocyten == \"Ja\" and Porocyten == \"Nein\" and Amöbocyten == \"Ja\":\n",
    "        print(\"Dieser Schwamm hat eine stabile Form.\")          \n",
    "    elif Choanocyten == \"Ja\" and Pinacocyten == \"Nein\" and Porocyten == \"Ja\" and Amöbocyten == \"Ja\":\n",
    "        print(\"Dieser Schwamm ist sehr dysfunktional.\")\n",
    "        print(image_dysfunctional)\n",
    "    elif Choanocyten == \"Nein\" and Pinacocyten == \"Ja\" and Porocyten == \"Ja\" and Amöbocyten == \"Ja\":\n",
    "        print(\"Dieser Schwamm hat eine stabile Form.\")\n",
    "    elif Choanocyten == \"Ja\" and Pinacocyten == \"Ja\" and Porocyten == \"Ja\" and Amöbocyten == \"Ja\":\n",
    "        print(\"Wir haben einen funktionalen Schwamm, der eine stabile Form hat und sich ernähren kann.\")\n",
    "        print(image_functional)\n",
    "    else:\n",
    "        print(\"Unbehandelter Fall.\")\n"
   ]
  },
  {
   "cell_type": "markdown",
   "id": "d13b46e7",
   "metadata": {},
   "source": [
    "## Code-Zelle 2"
   ]
  },
  {
   "cell_type": "code",
   "execution_count": 116,
   "id": "09915c28",
   "metadata": {},
   "outputs": [
    {
     "name": "stdout",
     "output_type": "stream",
     "text": [
      "Dieser Schwamm hat eine stabile Form.\n"
     ]
    }
   ],
   "source": [
    "# Setzen Sie die Werte für Choanocyten, Pinacocyten, Porocyten und Amöbocyten\n",
    "Choanocyten = \"Nein\"  # Ersetzen Sie durch \"Ja\" oder \"Nein\"\n",
    "Pinacocyten = \"Ja\"  # Ersetzen Sie durch \"Ja\" oder \"Nein\"\n",
    "Porocyten = \"Nein\"  # Ersetzen Sie durch \"Ja\" oder \"Nein\"\n",
    "Amöbocyten = \"Nein\"  # Ersetzen Sie durch \"Ja\" oder \"Nein\"\n",
    "\n",
    "# Zeigen Sie die entsprechende Meldung basierend auf den Werten an\n",
    "display_message(Choanocyten, Pinacocyten, Porocyten, Amöbocyten)\n",
    "\n"
   ]
  }
 ],
 "metadata": {
  "kernelspec": {
   "display_name": "Python 3 (ipykernel)",
   "language": "python",
   "name": "python3"
  },
  "language_info": {
   "codemirror_mode": {
    "name": "ipython",
    "version": 3
   },
   "file_extension": ".py",
   "mimetype": "text/x-python",
   "name": "python",
   "nbconvert_exporter": "python",
   "pygments_lexer": "ipython3",
   "version": "3.9.7"
  }
 },
 "nbformat": 4,
 "nbformat_minor": 5
}
